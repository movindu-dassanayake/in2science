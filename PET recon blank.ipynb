{
 "cells": [
  {
   "cell_type": "markdown",
   "metadata": {},
   "source": [
    "### Reconstructing a brain phantom\n",
    "\n",
    "The scanner organises the \"coincidence\" events in a format called a sinogram. This data is related to the true radiotracer distribution within the body through what is known as a Radon transform. To get the true radiotracer distribution (what we want), we have to reconstruct the image using these measured projections (the sinogram). This is what's known as an inverse problem.\n",
    "\n",
    "In this notebook, we will focus on using the Radon transform to learn the concepts of forward and back projecting and how they link into reconstructing a 2D brain image\n"
   ]
  },
  {
   "cell_type": "markdown",
   "metadata": {},
   "source": [
    "First lets import the libraries needed for the maths and plotting images and set up a few utility functions to help along the way"
   ]
  },
  {
   "cell_type": "code",
   "execution_count": null,
   "metadata": {},
   "outputs": [],
   "source": [
    "import numpy as np\n",
    "import matplotlib.pyplot as plt\n",
    "from skimage.transform import resize, radon, iradon\n",
    "from scipy.io import loadmat\n",
    "from scipy.ndimage import gaussian_filter\n",
    "from tqdm import trange"
   ]
  },
  {
   "cell_type": "code",
   "execution_count": null,
   "metadata": {},
   "outputs": [],
   "source": [
    "# Normalised Root Mean Square Error - Used to calculate the error between the true and reconstructed images\n",
    "\n",
    "def normalised_root_mean_square_error(true, recon):\n",
    "    return np.sqrt(np.mean((true - recon)**2)) / np.sqrt(np.mean(true**2))*100.0"
   ]
  },
  {
   "cell_type": "markdown",
   "metadata": {},
   "source": [
    "### The phantom\n",
    "\n",
    "We will be working with the following phantom:\n",
    "<div>\n",
    "<img src=\"brain.png\" width=\"200\"/>\n",
    "</div>\n",
    "\n",
    "This phantom is a 2D image, below is some code that will import the file and resize it to a 256x256 image."
   ]
  },
  {
   "cell_type": "code",
   "execution_count": null,
   "metadata": {},
   "outputs": [],
   "source": [
    "detailed_brain_phantom = loadmat('brain_phantom.mat')\n",
    "true_image = detailed_brain_phantom['aphantom']\n",
    "\n",
    "nxd = 128\n",
    "true_image = 0.01*resize(true_image, (nxd,nxd), anti_aliasing=False)"
   ]
  },
  {
   "cell_type": "markdown",
   "metadata": {},
   "source": [
    "## The Radon Transform: Creating the sinogram\n",
    "\n",
    "The Radon transform is a mathematical operation that takes a 2D image and maps it into a 2D space. This is done by projecting the image along a line at a certain angle. The result of this projection is a 1D signal that is stored in a sinogram. The sinogram is a 2D array where the x-axis represents the angle of projection and the y-axis represents the distance along the projection line.\n",
    "\n",
    "For full coverage of the image, the projection has to be carried out at multiple angles, typically 180 degrees.\n",
    "\n",
    "Complete the following code to create an array of angles between 0 and 180 degrees. `np.arange` takes in the start, stop and step size of the array."
   ]
  },
  {
   "cell_type": "code",
   "execution_count": null,
   "metadata": {},
   "outputs": [],
   "source": [
    "angles = np.arange(\"\", \"\", \"\")"
   ]
  },
  {
   "cell_type": "markdown",
   "metadata": {},
   "source": [
    "We can use the `radon` function from the `skimage.transform` module to create the sinogram. This function takes the image and the array of angles as input and returns the sinogram. Complete the following code the create the sinogram of the brain phantom.\n",
    "\n",
    "The `circle` parameter should be set to `False` to avoid the image being cropped to a circle."
   ]
  },
  {
   "cell_type": "code",
   "execution_count": null,
   "metadata": {},
   "outputs": [],
   "source": [
    "sinogram = radon(\"\", \"\", circle=False)"
   ]
  },
  {
   "cell_type": "markdown",
   "metadata": {},
   "source": [
    "Now we have forward projected the image to obtain our sinogram, let's see how the sinogram and the brain phantom looks."
   ]
  },
  {
   "cell_type": "code",
   "execution_count": null,
   "metadata": {},
   "outputs": [],
   "source": [
    "fig, ax = plt.subplots(1, 2, figsize=(10, 5))\n",
    "\n",
    "# imshow is used to plot 2D images with the use of matplotlib. We will use the 'Greys_r' colour map to show greyscale images.\n",
    "ax[0].imshow(true_image, cmap='Greys_r') \n",
    "ax[0].set_title('True Object') \n",
    "\n",
    "ax[1].imshow(sinogram.T, cmap='Greys_r') # .T at the end of the array transposes the array so that the image is displayed correctly\n",
    "ax[1].set_xlabel('Projection position (pixels)'); ax[1].set_ylabel('Projection angle (deg)')\n",
    "ax[1].set_title('Measured Sinogram')\n",
    "\n",
    "plt.show()"
   ]
  },
  {
   "cell_type": "markdown",
   "metadata": {},
   "source": [
    "Similar to the `radon` function, which forward projects an image, the `iradon` function can be used to **_back_** project a sinogram to get a crude reconstruction. This function takes the sinogram and the array of angles as input and returns the reconstructed image. Complete the following code to reconstruct the image from the sinogram.\n",
    "\n",
    "As before, the `circle` parameter should be set to `False` to avoid the image being cropped to a circle. Also, the `filter_name` parameter should be set to `None` to avoid applying a filter to the sinogram."
   ]
  },
  {
   "cell_type": "code",
   "execution_count": null,
   "metadata": {},
   "outputs": [],
   "source": [
    "bp_image = iradon(\"\", \"angles\", filter_name=None, circle=False)"
   ]
  },
  {
   "cell_type": "markdown",
   "metadata": {},
   "source": [
    "Complete the following code to plot the true image, and the backprojected image."
   ]
  },
  {
   "cell_type": "code",
   "execution_count": null,
   "metadata": {},
   "outputs": [],
   "source": [
    "fig, ax = plt.subplots(1, 2, figsize=(10, 5))\n",
    "\n",
    "ax[0].imshow(\"\", cmap='Greys_r') \n",
    "ax[0].set_title('Object') \n",
    "\n",
    "ax[1].imshow(\"\", cmap='Greys_r') # Transpose to match the orientation of the phantom\n",
    "ax[1].set_title('Backprojection')\n",
    "\n",
    "plt.show()"
   ]
  },
  {
   "cell_type": "markdown",
   "metadata": {},
   "source": [
    "## Iterative reconstruction: MLEM method\n",
    "\n",
    "We can see that this image is very blurry and does not resemble the original image, this is because only using the back projection oversamples certain parts of the image. To improve the reconstruction, lets look at a method called Maximum Likelihood Expectation Maximisation (MLEM), an iterative method.\n",
    "\n",
    "MLEM starts with a guess of what the image might look like. We can then simulate what data this guessed image would produce using the Radon transform. By comparing this simulated data to the actual data, we can improve our guess. This process is repeated many times to get a better image.\n",
    "\n",
    "Therefore, we can think of the process as follows:\n",
    "1. Start with an initial guess of the image (usually an image set to all ones)\n",
    "2. Forward project the image to get an estimate sinogram\n",
    "3. Divide the actual measured sinogram by the estimated sinogram, this is essentially a factor saying how far off the estimate is from the actual sinogram\n",
    "4. Back project this factor to get a value to multiply the initial guess \n",
    "5. Multiply the initial guess by this correction factor and include additional correction term\n",
    "6. Repeat 2-5 until the image converges to a satisfactory level"
   ]
  },
  {
   "cell_type": "markdown",
   "metadata": {},
   "source": [
    "In the following, we define the function that carries out an MLEM update (steps 2-5); it takes in the current image, and the measured sinogram. Complete this function. \n",
    "\n",
    "By having this function, we can now iterate over the image to get a better reconstruction. Also, as move on to the next tasks, we can make use of this function, so it's important to get it right the first time!"
   ]
  },
  {
   "cell_type": "code",
   "execution_count": null,
   "metadata": {},
   "outputs": [],
   "source": [
    "def MLEM_update(current_estimate, measured_sinogram):\n",
    "    # An additional correction term needed for a correct reconstruction\n",
    "    sensitivity_image = iradon(np.ones_like(measured_sinogram), angles, filter_name=None, circle=False)\n",
    "\n",
    "    # Step 2: Forward project the estimate image\n",
    "    sino_estimate = radon(\"\", \"\", circle=False)\n",
    "    # Step 3: Divide measured sinogram by the estimate sinogram (add a small number in denominator to avoid division by zero)\n",
    "    measured_vs_estimate_ratio = \"\" / (\"\" + 1e-15)\n",
    "    # Step 4: Backproject the ratio\n",
    "    bp_ratio = iradon(\"\", \"\", filter_name=None, circle=False)\n",
    "    # Step 5: Multiply the estimate by the backprojected ratio and divide by sensitivty image for correct reconstruction\n",
    "    current_estimate = \"\" * \"\" / (sensitivity_image + 1e-15)\n",
    "\n",
    "    return current_estimate"
   ]
  },
  {
   "cell_type": "markdown",
   "metadata": {},
   "source": [
    "Now, lets include a for loop that will iterate over the MLEM update over a certain number of iterations. We can set the number of iterations using `n_iter`. \n",
    "\n",
    "After each update, we also calculate the normalised root mean square error (NRMSE) between the true image and the current image. This is a measure of how close the current image is to the true image. We can plot this later to see how the image converges (or not!)."
   ]
  },
  {
   "cell_type": "code",
   "execution_count": null,
   "metadata": {},
   "outputs": [],
   "source": [
    "# Step 1: Create a blank image filled with ones as our first estimate\n",
    "mlem_recon_image = np.ones_like(true_image)\n",
    "\n",
    "# Set the number of iterations for the iterative reconstruction and create an empty list to store the NRMSE values\n",
    "n_iter = 40\n",
    "NRMSE_list = []\n",
    "\n",
    "# Create a progress bar for the iterations\n",
    "iteration_progress_bar = trange(n_iter, desc='MLEM Iterations', leave=True)\n",
    "\n",
    "# Set up the loop for iterative reconstruction\n",
    "for i in iteration_progress_bar:\n",
    "    mlem_recon_image = MLEM_update(current_estimate=\"\", measured_sinogram=\"\")\n",
    "\n",
    "    # Extra: Calculate the NRMSE and append to the list\n",
    "    NRMSE_list.append(normalised_root_mean_square_error(true_image, mlem_recon_image))\n",
    "    iteration_progress_bar.set_postfix_str(f'NRMSE: {NRMSE_list[-1]:.2f} %')\n",
    "    "
   ]
  },
  {
   "cell_type": "markdown",
   "metadata": {},
   "source": [
    "Complete the following code to plot the true image and the MLEM reconstructed image. Also plot the error between the true brain phantom and the reconstruction (use `NRMSE_list`); complete `ax[2].plot(\"\")` for this."
   ]
  },
  {
   "cell_type": "code",
   "execution_count": null,
   "metadata": {},
   "outputs": [],
   "source": [
    "fig, ax = plt.subplots(1, 3, figsize=(15, 5))\n",
    "\n",
    "ax[0].imshow(\"\", cmap='Greys_r') \n",
    "ax[0].set_title('True Object') \n",
    "\n",
    "ax[1].imshow(\"\", cmap='Greys_r')\n",
    "ax[1].set_title('MLEM Reconstruction')\n",
    "\n",
    "ax[2].plot(\"\")\n",
    "ax[2].set_xlabel('Iteration number'); ax[2].set_ylabel('NRMSE (%)')\n",
    "ax[2].set_title('NRMSE Comparison')\n",
    "\n",
    "plt.show()"
   ]
  },
  {
   "cell_type": "markdown",
   "metadata": {},
   "source": [
    "We should be able to see an image somewhat resembling the true brain phantom, experiment with the number of iterations to see how the reconstruction changes. Does it get better?"
   ]
  },
  {
   "cell_type": "markdown",
   "metadata": {},
   "source": [
    "### Noisy data\n",
    "\n",
    "In reality, the data collected by the scanner is noisy. With noisy data, MLEM reconstruction can struggle. However, there are some ways in reducing the effect of noise in the reconstruction. One method is to use regularisation within the reconstruction.\n",
    "\n",
    "First, lets create some noisy data by introducing Poisson noise (a particular type of noise that is common in PET imaging). This is done in the following code block."
   ]
  },
  {
   "cell_type": "code",
   "execution_count": null,
   "metadata": {},
   "outputs": [],
   "source": [
    "noisy_sinogram = np.random.poisson(sinogram)"
   ]
  },
  {
   "cell_type": "markdown",
   "metadata": {},
   "source": [
    "Lets compare the noisy sinogram to the true measured sinogram; plot the noisy sinogram and the true sinogram."
   ]
  },
  {
   "cell_type": "code",
   "execution_count": null,
   "metadata": {},
   "outputs": [],
   "source": [
    "fig, ax = plt.subplots(1, 2, figsize=(10, 5))\n",
    "\n",
    "ax[0].imshow(\"\".T, cmap='Greys_r') \n",
    "ax[0].set_xlabel('Projection position (pixels)'); ax[0].set_ylabel('Projection angle (deg)')\n",
    "ax[0].set_title('Noisy Sinogram') \n",
    "\n",
    "ax[1].imshow(\"\".T, cmap='Greys_r') # Transpose to match the orientation of the phantom\n",
    "ax[1].set_xlabel('Projection position (pixels)'); ax[1].set_ylabel('Projection angle (deg)')\n",
    "ax[1].set_title('Measured Sinogram')\n",
    "\n",
    "plt.show()"
   ]
  },
  {
   "cell_type": "markdown",
   "metadata": {},
   "source": [
    "Next, using the MLEM implementation for the noise free data as a starting block, reconstruct the noisy data."
   ]
  },
  {
   "cell_type": "code",
   "execution_count": null,
   "metadata": {},
   "outputs": [],
   "source": [
    "# Step 1: Create a blank image filled with ones as our first estimate and an additional correction term needed for a correct reconstruction\n",
    "noisy_mlem_recon_image = np.ones_like(true_image)\n",
    "\n",
    "# Set the number of iterations for the iterative reconstruction and create an empty list to store the NRMSE values\n",
    "n_iter = 40\n",
    "Noisy_NRMSE_list = []\n",
    "\n",
    "# Create a progress bar for the iterations\n",
    "noisy_iteration_progress_bar = trange(n_iter, desc='Noisy MLEM Iterations', leave=True)\n",
    "\n",
    "# Set up the loop for iterative reconstruction\n",
    "for i in noisy_iteration_progress_bar:\n",
    "    # Step 2-5: Call MLEM_update to get the next update. Make sure to use the noisy sinogram this time!\n",
    "    noisy_mlem_recon_image = MLEM_update(\"\", \"\")\n",
    "\n",
    "    # Extra: Calculate the NRMSE and append to the list\n",
    "    Noisy_NRMSE_list.append(normalised_root_mean_square_error(true_image, noisy_mlem_recon_image))\n",
    "    noisy_iteration_progress_bar.set_postfix_str(f'NRMSE: {Noisy_NRMSE_list[-1]:.2f} %')"
   ]
  },
  {
   "cell_type": "markdown",
   "metadata": {},
   "source": [
    "Plot the reconstructions and the true image here. Also, as before, plot the NRMSE against iterations plot for the noisy data and the noise free data (in one plot). \n",
    "\n",
    "You can add additional lines to the plot by calling `ax[2].plot()` multiple times."
   ]
  },
  {
   "cell_type": "code",
   "execution_count": null,
   "metadata": {},
   "outputs": [],
   "source": [
    "fig, ax = plt.subplots(1, 4, figsize=(20, 5))\n",
    "\n",
    "# vmax is used to keep the same scale for all images\n",
    "ax[0].imshow(\"\", vmax=noisy_mlem_recon_image.max(), cmap='Greys_r')  \n",
    "ax[0].set_title('True Object') \n",
    "\n",
    "ax[1].imshow(\"\", vmax=noisy_mlem_recon_image.max(), cmap='Greys_r')\n",
    "ax[1].set_title('MLEM Reconstruction')\n",
    "\n",
    "ax[2].imshow(\"\", vmax=noisy_mlem_recon_image.max(), cmap='Greys_r')\n",
    "ax[2].set_title('Noisy MLEM Reconstruction')\n",
    "\n",
    "ax[3].plot(\"\", label='Noise-free')\n",
    "ax[3].plot(\"\", label='Noisy')\n",
    "\n",
    "ax[3].set_xlabel('Iteration number'); ax[3].set_ylabel('NRMSE (%)')\n",
    "ax[3].legend()  # Add a legend to the plot to see which line corresponds to which reconstruction\n",
    "ax[3].set_title('NRMSE Comparison')\n",
    "\n",
    "plt.show()"
   ]
  },
  {
   "cell_type": "markdown",
   "metadata": {},
   "source": [
    "As we can see from the noisy data reconstruction, the MLEM method struggles when significant noisy data is present in the data. Looking at the NRMSE plot, we should be able to see that the noisy data reconstruction diverges from the noise-free data reconstruction. This is where the MLEM method is trying to fit to the noise in the data rather than the actual data (or signal).\n",
    "\n",
    "Regularisation of the MLEM reconstruction is one way to reduce the effects of noise. Here we will have a brief look at using a method, which instead of overfitting to noise, fits to a smoothed version of the data. \n",
    "\n",
    "The details of this method is quite complicated, but we can change a few parameters to see how the reconstruction difers to that of standard reconstruction of noisy data."
   ]
  },
  {
   "cell_type": "markdown",
   "metadata": {},
   "source": [
    "The following functions are part of the regularisation step. Don't worry too much about the detail here, but make sure to run the code block."
   ]
  },
  {
   "cell_type": "code",
   "execution_count": null,
   "metadata": {},
   "outputs": [],
   "source": [
    "def compute_xreg(image_array, w):\n",
    "    image = image_array.copy()\n",
    "    padded_image = np.pad(image, pad_width=1, mode='constant', constant_values=0)\n",
    "    for x in range(1, image.shape[0] + 1):\n",
    "        for y in range(1, image.shape[1] + 1):\n",
    "            neighborhood = padded_image[x-1:x+2, y-1:y+2]\n",
    "            image[x-1, y-1] += np.sum(w/2 * (padded_image[x, y] + neighborhood))\n",
    "\n",
    "    return image\n",
    "\n",
    "def compute_MAPEM_update(xEM, xreg, beta):\n",
    "    return 2*xEM/(np.sqrt((1 - beta*xreg)**2 + 4*beta*xEM) + (1 - beta*xreg) + 1e-15)"
   ]
  },
  {
   "cell_type": "markdown",
   "metadata": {},
   "source": [
    "As before, we start off with obtaining an MLEM update for the noisy data, but this time we will include the regularisation step. "
   ]
  },
  {
   "cell_type": "code",
   "execution_count": null,
   "metadata": {},
   "outputs": [],
   "source": [
    "regularised_mlem_recon_image = np.ones_like(true_image)\n",
    "\n",
    "# Regularisation parameters: w is constant, but feel free to change beta to see the effect on the reconstruction\n",
    "w = np.array([[0., 1., 0.], [1., 0., 1.], [0., 1., 0.]])\n",
    "w /= np.sum(w)\n",
    "beta = .05       # Regularisation parameter: change as well as the number of iterations to see how the reconstruction changes\n",
    "\n",
    "# Set the number of iterations for the iterative reconstruction and create an empty list to store the NRMSE values\n",
    "n_iter = 40\n",
    "Regularised_NRMSE_list = []\n",
    "\n",
    "# Create a progress bar for the iterations\n",
    "regularised_iteration_progress_bar = trange(n_iter, desc='Regularised MLEM Iterations', leave=True)\n",
    "\n",
    "# Set up the loop for iterative reconstruction\n",
    "for i in regularised_iteration_progress_bar:\n",
    "    # Step 2-5: Call MLEM_update to get the next update. Make sure to use the noisy sinogram again!\n",
    "    regularised_mlem_recon_image = MLEM_update(\"\", \"\")\n",
    "\n",
    "    # Regularisation steps\n",
    "    xreg = compute_xreg(regularised_mlem_recon_image, w)\n",
    "    regularised_mlem_recon_image = compute_MAPEM_update(regularised_mlem_recon_image, xreg, beta)\n",
    "\n",
    "    # Extra: Calculate the NRMSE and append to the list\n",
    "    Regularised_NRMSE_list.append(normalised_root_mean_square_error(true_image, regularised_mlem_recon_image))\n",
    "    regularised_iteration_progress_bar.set_postfix_str(f'NRMSE: {Regularised_NRMSE_list[-1]:.2f} %')"
   ]
  },
  {
   "cell_type": "markdown",
   "metadata": {},
   "source": [
    "Plot the true image, the noisy reconstruction, the noisy reconstruction with regularisation and the NRMSE plots for noise-free, noisy, and noisy with regularisation reconstructions"
   ]
  },
  {
   "cell_type": "code",
   "execution_count": null,
   "metadata": {},
   "outputs": [],
   "source": [
    "fig, ax = plt.subplots(1, 4, figsize=(20, 5))\n",
    "\n",
    "ax[0].imshow(\"\", vmax=noisy_mlem_recon_image.max(), cmap='Greys_r') \n",
    "ax[0].set_title('True Object') \n",
    "\n",
    "ax[1].imshow(\"\", vmax=noisy_mlem_recon_image.max(), cmap='Greys_r')\n",
    "ax[1].set_title('Noisy MLEM Reconstruction')\n",
    "\n",
    "ax[2].imshow(\"\", vmax=noisy_mlem_recon_image.max(), cmap='Greys_r')\n",
    "ax[2].set_title('Regularised Noisy MLEM Reconstruction')\n",
    "\n",
    "ax[3].plot(\"\", label='Noise-free MLEM')\n",
    "ax[3].plot(\"\", label='Noisy MLEM')\n",
    "ax[3].plot(\"\", label='Regularised Noisy MLEM')\n",
    "ax[3].set_xlabel('Iteration number'); ax[3].set_ylabel('NRMSE (%)')\n",
    "ax[3].legend()\n",
    "ax[3].set_title('NRMSE Comparison')\n",
    "\n",
    "plt.show()"
   ]
  },
  {
   "cell_type": "markdown",
   "metadata": {},
   "source": [
    "Feel free to change around the values of `beta` and `n_iter` to see how the reconstruction changes. At the optimum values, you should be able to see a reconstruction that is less noisy than the noisy MLEM reconstruction; you should be able to see the features of the brain more clearly.\n",
    "\n",
    "Lastly, we can apply post-smoothing to smooth out the image further to reduce the effects of noise. For this, we apply a simple Gaussian filter, where we specify the `sigma` value. This can provide an image that is more useful for a clinician, and is often used in practice too! Complete the following code to find the smooth versions of the noisy and regularised noisy reconstructions."
   ]
  },
  {
   "cell_type": "code",
   "execution_count": null,
   "metadata": {},
   "outputs": [],
   "source": [
    "# Create a 2D Gaussian kernel to filter the image further \n",
    "def filter_image_with_gaussian(image, filt_sigma):\n",
    "    filtered_image = gaussian_filter(image, filt_sigma)\n",
    "    return filtered_image\n",
    "\n",
    "sigma = 0.5\n",
    "\n",
    "# Example usage:\n",
    "smoothed_regularised_noisy_recon = gaussian_filter(\"\", filt_sigma=\"\")\n",
    "smoothed_noisy_recon = gaussian_filter(\"\", filt_sigma=\"\")"
   ]
  },
  {
   "cell_type": "markdown",
   "metadata": {},
   "source": [
    "Finally, plot the regularised noisy reconstruction as well as the smoothed version to see how they compare. Feel free to smooth the noisy reconstruction to see how that changes too. Change around `sigma` to see how this affects the reconstruction."
   ]
  },
  {
   "cell_type": "code",
   "execution_count": null,
   "metadata": {},
   "outputs": [],
   "source": [
    "fig, ax = plt.subplots(1, 4, figsize=(20, 5))\n",
    "\n",
    "ax[0].imshow(\"\", vmax=noisy_mlem_recon_image.max(), cmap='Greys_r')\n",
    "ax[0].set_title('Noisy MLEM Reconstruction')\n",
    "\n",
    "ax[1].imshow(\"\", vmax=noisy_mlem_recon_image.max(), cmap='Greys_r')\n",
    "ax[1].set_title('Smoothed Noisy MLEM Reconstruction')\n",
    "\n",
    "ax[2].imshow(\"\", vmax=noisy_mlem_recon_image.max(), cmap='Greys_r')\n",
    "ax[2].set_title('Regularised Noisy MLEM Reconstruction')\n",
    "\n",
    "ax[3].imshow(\"\", vmax=noisy_mlem_recon_image.max(), cmap='Greys_r')\n",
    "ax[3].set_title('Smoothed Regularised Noisy MLEM Reconstruction')\n",
    "\n",
    "plt.show()"
   ]
  },
  {
   "cell_type": "code",
   "execution_count": null,
   "metadata": {},
   "outputs": [],
   "source": []
  }
 ],
 "metadata": {
  "kernelspec": {
   "display_name": "Python 3 (ipykernel)",
   "language": "python",
   "name": "python3"
  },
  "language_info": {
   "codemirror_mode": {
    "name": "ipython",
    "version": 3
   },
   "file_extension": ".py",
   "mimetype": "text/x-python",
   "name": "python",
   "nbconvert_exporter": "python",
   "pygments_lexer": "ipython3",
   "version": "3.12.4"
  }
 },
 "nbformat": 4,
 "nbformat_minor": 4
}
